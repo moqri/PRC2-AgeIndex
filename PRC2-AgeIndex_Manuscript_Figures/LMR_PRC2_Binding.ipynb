{
 "cells": [
  {
   "cell_type": "code",
   "execution_count": 12,
   "id": "8ca5d209-31d8-45a5-b6e4-0a63470b8364",
   "metadata": {},
   "outputs": [],
   "source": [
    "#Loading packages and functions for finding PRC2 binding in LMRs\n",
    "\n",
    "import pandas as pd\n",
    "import pyBigWig \n",
    "\n",
    "#please refer to s.table 1 to download the following bigwig files into the data/chip folder to run \n",
    "data='../data/'\n",
    "ez=pyBigWig.open(data+'chip/ENCFF105JFX.bigWig') # EZH2 esc fold \n",
    "ez9=pyBigWig.open(data+'chip/ENCFF000AVT.bigWig') # EZH2 esc fold  hg19\n",
    "su=pyBigWig.open(data+'chip/ENCFF224RZW.bigWig') # SUZ12 esc fold\n",
    "su9=pyBigWig.open(data+'chip/ENCFF027VOM.bigWig') # SUZ12 esc fold hg19\n",
    "\n",
    "mez1=pyBigWig.open(data+'chip/SRX2528911.bw') # EZH2 rep1 mesc chip-atlas\n",
    "mez2=pyBigWig.open(data+'chip/SRX2528912.bw') # EZH2 rep2 mesc chip-atlas\n",
    "msu=pyBigWig.open(data+'chip/SRX4338248.bw') # SUZ12 mesc chip-atlas\n",
    "\n",
    "#remove ENCODE blacklist regions - bias high signal regions that are problematic in ChIP experiments\n",
    "def bl(t,b):\n",
    "    bl=pd.read_table(data+b,header=None)\n",
    "    bl['r']=bl.apply(lambda x: set(range(x[1],x[2])),axis=1)\n",
    "    bg=bl.groupby(0)['r'].apply(list)\n",
    "    bg=bg.apply(lambda x:set.union(*x))   \n",
    "    t['r']=t.apply(lambda x: set(range(x[1],x[2])),axis=1)\n",
    "    t['bl']=t.apply(lambda x: len(x['r'].intersection(bg[x['ch']])),axis=1)\n",
    "    t=t[t['bl']==0].drop('r',axis=1)\n",
    "    return t\n",
    "\n",
    "#Calculate PRC2 binding per LMR per sample - hg38\n",
    "def prc(folder,cell,): \n",
    "    t=pd.read_csv(data+'/meth/'+folder+'/'+cell+'.hmr',sep='\\t',header=None,usecols=[0,1,2,4])\n",
    "    t=t[~t[0].isin(['chrX','chrY','chrM'])].copy()\n",
    "    t.columns=['ch','b','e','d']\n",
    "    t['ez']=t.apply(lambda x:ez.stats(x[0],x[1],x[2])[0],axis=1)\n",
    "    t['su']=t.apply(lambda x:su.stats(x[0],x[1],x[2])[0],axis=1)\n",
    "    t['pr']=t[['ez','su']].mean(1)\n",
    "    print(len(t))\n",
    "    t=bl(t,'hg38-blacklist.v2.bed.gz') \n",
    "    return t\n",
    "\n",
    "#Calculate PRC2 binding per LMR per sample - hg19\n",
    "def prc9(folder,cell,): \n",
    "    t=pd.read_csv(data+'/meth/'+folder+'/'+cell+'.hmr',sep='\\t',header=None,usecols=[0,1,2,4])\n",
    "    t=t[~t[0].isin(['chrX','chrY','chrM'])].copy()\n",
    "    t.columns=['ch','b','e','d']\n",
    "    t['ez']=t.apply(lambda x:ez9.stats(x[0],x[1],x[2])[0],axis=1)\n",
    "    t['su']=t.apply(lambda x:su9.stats(x[0],x[1],x[2])[0],axis=1)\n",
    "    t['pr']=t[['ez','su']].mean(1)\n",
    "    print(len(t))\n",
    "    t=bl(t,'hg19-blacklist.v2.bed.gz') \n",
    "    return t\n",
    "\n",
    "#Calculate PRC2 binding per LMR per sample - mm10\n",
    "def mprc(folder,cell): # PRC levels\n",
    "    t=pd.read_csv(data+'/meth/'+folder+'/'+cell+'.hmr',sep='\\t',header=None,usecols=[0,1,2,4])\n",
    "    t=t[~t[0].isin(['chrX','chrY','chrM'])].copy()\n",
    "    t=t[~t[0].str.contains('random')].copy()\n",
    "    t=t[~t[0].str.contains('Un')].copy()        \n",
    "    t.columns=['ch','b','e','d']\n",
    "    t=bl(t,'mm10-blacklist.v2.bed.gz')\n",
    "    t['ez1']=t.apply(lambda x:mez1.stats(x[0],x[1],x[2])[0],axis=1)\n",
    "    t['ez2']=t.apply(lambda x:mez2.stats(x[0],x[1],x[2])[0],axis=1)    \n",
    "    t['su']=t.apply(lambda x:msu.stats(x[0],x[1],x[2])[0],axis=1)\n",
    "    for c in ['ez1','ez2','su']:\n",
    "        t[c]=t[c]/t[c].max()\n",
    "    t['pr']=t[['ez1','ez2','su']].mean(1)   \n",
    "    print(len(t))    \n",
    "    return t\n",
    "\n",
    "#Calculate DNAm percentage per LMR per sample \n",
    "def prcm(dft,folder,cells): # DNAm levels\n",
    "    path=data+'/meth/'+folder+'/'\n",
    "    for cell in cells:\n",
    "        bs=[]\n",
    "        print(cell,end=',')\n",
    "        bw=pyBigWig.open(path+cell+'.bw')\n",
    "        for i,r in dft.iterrows():\n",
    "            if (i % 1000) == 0:print('.',end='')\n",
    "            bs.append(bw.stats(r['ch'],r['b'],r['e'])[0])\n",
    "        print()\n",
    "        dft[cell]=bs\n",
    "    dft=dft.dropna().copy().round(3)\n",
    "    return dft\n",
    "\n",
    "#Applies above functions\n",
    "def pip(folder, cell,cells, hm='h',group='',hg=38):\n",
    "    if hm=='h':\n",
    "        if hg==38:\n",
    "            t=prc(folder,cell)\n",
    "        if hg==19:\n",
    "            t=prc9(folder,cell)\n",
    "    if hm=='m':\n",
    "        t=mprc(folder,cell)    \n",
    "    t=t.sort_values('pr').reset_index()\n",
    "    t=prcm(t,folder,cells)\n",
    "    return t"
   ]
  },
  {
   "cell_type": "code",
   "execution_count": null,
   "id": "1508b51d-8dce-47a8-95e8-b038c4456d64",
   "metadata": {},
   "outputs": [],
   "source": [
    "# Figs 1,2,6 - Creating T-cell LMR table sorted by PRC2 binding (pr) (GSE79798 & GSE31263)\n",
    "folder='t';cell='t';cells=['0','18','25','82','86','100']\n",
    "t=pip(folder, cell,cells)"
   ]
  },
  {
   "cell_type": "code",
   "execution_count": 9,
   "id": "ceebbbdb-6714-4710-a22d-ed776a608cd0",
   "metadata": {},
   "outputs": [],
   "source": [
    "#saving T-cell LMR table \n",
    "t.to_csv('results/'+cell+'.csv')"
   ]
  },
  {
   "cell_type": "code",
   "execution_count": 10,
   "id": "88880046-2cb4-494c-a8ff-38afe1be6ac6",
   "metadata": {},
   "outputs": [],
   "source": [
    "#calculating change in methylation between age 100 and age 0 and adding to results\n",
    "t['delta']=t['100']-t['0']\n",
    "t[['ch','b','e','d','pr','delta']].round(3).sort_values('pr',ascending=False).to_csv('results/'+cell+'_summary.csv',index=False)"
   ]
  },
  {
   "cell_type": "code",
   "execution_count": 12,
   "id": "5774fa95-bd1c-4396-8c4f-3f1fe4f6fc09",
   "metadata": {},
   "outputs": [
    {
     "name": "stdout",
     "output_type": "stream",
     "text": [
      "76882\n",
      "18,............................................................................\n",
      "23,............................................................................\n",
      "25,............................................................................\n",
      "74,............................................................................\n",
      "75,............................................................................\n",
      "83,............................................................................\n"
     ]
    }
   ],
   "source": [
    "# Figs 1&2 - Creating epidermis (skin) LMR table sorted by PRC2 binding (pr) (GSE52972)\n",
    "folder='s';cell='s';cells=['18','23','25','74','75','83']\n",
    "s=pip(folder, cell,cells)"
   ]
  },
  {
   "cell_type": "code",
   "execution_count": 13,
   "id": "162a0760-da88-49f4-b6b5-97a47fdc0029",
   "metadata": {},
   "outputs": [],
   "source": [
    "#saving epidermis LMR table \n",
    "s.to_csv('results/'+cell+'.csv')  "
   ]
  },
  {
   "cell_type": "code",
   "execution_count": 14,
   "id": "b0319d1f-433f-4f5a-bf8a-ba3ceb309cd0",
   "metadata": {},
   "outputs": [],
   "source": [
    "#calculating change in methylation between old and young and adding to results\n",
    "s['delta']=s[['74','75','83']].mean(axis=1)-s[['18','23','25']].mean(axis=1)\n",
    "s[['ch','b','e','d','pr','delta']].round(3).sort_values('pr',ascending=False).to_csv('results/'+cell+'_summary.csv',index=False)  "
   ]
  },
  {
   "cell_type": "code",
   "execution_count": 9,
   "id": "d8fd11e8-d082-440a-8edc-a645bbad5d4c",
   "metadata": {},
   "outputs": [
    {
     "name": "stdout",
     "output_type": "stream",
     "text": [
      "53468\n",
      "SRR4473855,......................................................\n",
      "SRR4473856,......................................................\n",
      "SRR4473857,......................................................\n",
      "SRR4473858,......................................................\n",
      "SRR4473859,......................................................\n",
      "SRR4473860,......................................................\n",
      "SRR4473861,......................................................\n",
      "SRR4473862,......................................................\n"
     ]
    }
   ],
   "source": [
    "# Figs 2&4 - Creating mouse liver LMR table sorted by PRC2 binding (pr) (GSE89274)\n",
    "folder='l';cell='l';cells=['SRR44738'+str(c) for c in range(55,55+8)]\n",
    "l=pip(folder, cell,cells,hm='m')"
   ]
  },
  {
   "cell_type": "code",
   "execution_count": 17,
   "id": "98ec0b59-a5b7-4f34-bc77-067680f35d1f",
   "metadata": {},
   "outputs": [],
   "source": [
    "#calculating change in methylation between old and young and adding to results\n",
    "l['delta']=l[['SRR44738'+str(c) for c in range(59,63)]].mean(1)-l[['SRR44738'+str(c) for c in range(55,59)]].mean(1)\n",
    "l[['ch','b','e','d','pr','delta']].round(3).sort_values('pr',ascending=False).to_csv('results/'+cell+'_summary.csv',index=False)  "
   ]
  },
  {
   "cell_type": "code",
   "execution_count": 17,
   "id": "b214bc69-2347-4258-b0c4-b9a60ebede9f",
   "metadata": {},
   "outputs": [],
   "source": [
    "#saving mouse LMR table \n",
    "l.to_csv('results/'+cell+'.csv')  "
   ]
  },
  {
   "cell_type": "code",
   "execution_count": 5,
   "id": "bde52bab-74e0-4a82-86b4-ecc86ba6678b",
   "metadata": {},
   "outputs": [
    {
     "name": "stdout",
     "output_type": "stream",
     "text": [
      "76882\n",
      "SRR1042903,...........................................................................\n",
      "SRR1042906,...........................................................................\n",
      "SRR1042907,...........................................................................\n",
      "SRR1042909,...........................................................................\n",
      "SRR1042911,...........................................................................\n",
      "SRR1042913,...........................................................................\n",
      "SRR1042904,...........................................................................\n",
      "SRR1042905,...........................................................................\n",
      "SRR1042908,...........................................................................\n",
      "SRR1042910,...........................................................................\n",
      "SRR1042912,...........................................................................\n",
      "SRR1042914,...........................................................................\n"
     ]
    }
   ],
   "source": [
    "# Fig 2 - Creating LMR table sorted by PRC2 binding (pr) for skin (sun damaged) samples (GSE52972)\n",
    "cells=['SRR10429'+ i for i in  ['03','06','07','09','11','13']]+['SRR10429'+ i for i in  ['04','05','08','10','12','14']]\n",
    "folder='s';cell='ss'\n",
    "ss=pip(folder, cell,cells)"
   ]
  },
  {
   "cell_type": "code",
   "execution_count": 4,
   "id": "feaf0e9f-263c-4a7a-ad18-aa1eea94703d",
   "metadata": {},
   "outputs": [
    {
     "name": "stdout",
     "output_type": "stream",
     "text": [
      "77733\n",
      "4,...........................................................................\n",
      "7,...........................................................................\n",
      "10,...........................................................................\n",
      "31,...........................................................................\n",
      "33,...........................................................................\n"
     ]
    }
   ],
   "source": [
    "# Fig 5 - creating passaged fibroblast LMR table sorted by PRC2 binding (pr) (GSE79798)\n",
    "folder='f';cell='fv';cells=['4','7','10','31','33']\n",
    "f=pip(folder, cell,cells)"
   ]
  },
  {
   "cell_type": "code",
   "execution_count": 8,
   "id": "7bb48358-59a3-41b2-9325-a1cfa0a60b21",
   "metadata": {},
   "outputs": [],
   "source": [
    "#calculating change in methylation between age 100 and age 0\n",
    "f['delta']=f['33']-f['4']\n",
    "f[['ch','b','e','d','pr','delta']].round(3).sort_values('pr',ascending=False).to_csv('results/'+cell+'_summary.csv',index=False)"
   ]
  },
  {
   "cell_type": "code",
   "execution_count": 5,
   "id": "9222071c-0a38-4805-9588-83bfa65abc93",
   "metadata": {},
   "outputs": [],
   "source": [
    "#saving passaged fibroblast LMR table \n",
    "f.to_csv('results/'+cell+'.csv')  "
   ]
  },
  {
   "cell_type": "code",
   "execution_count": 16,
   "id": "2f41494d-9602-4ee5-b492-9b9821769f8d",
   "metadata": {},
   "outputs": [
    {
     "name": "stderr",
     "output_type": "stream",
     "text": [
      "/local/scratch/moqri/slrmtmp.43421248/ipykernel_53602/2153902538.py:23: FutureWarning: Series.__getitem__ treating keys as positions is deprecated. In a future version, integer keys will always be treated as labels (consistent with DataFrame behavior). To access a value by position, use `ser.iloc[pos]`\n",
      "  t['r']=t.apply(lambda x: set(range(x[1],x[2])),axis=1)\n",
      "/local/scratch/moqri/slrmtmp.43421248/ipykernel_53602/2153902538.py:60: FutureWarning: Series.__getitem__ treating keys as positions is deprecated. In a future version, integer keys will always be treated as labels (consistent with DataFrame behavior). To access a value by position, use `ser.iloc[pos]`\n",
      "  t['ez1']=t.apply(lambda x:mez1.stats(x[0],x[1],x[2])[0],axis=1)\n",
      "/local/scratch/moqri/slrmtmp.43421248/ipykernel_53602/2153902538.py:61: FutureWarning: Series.__getitem__ treating keys as positions is deprecated. In a future version, integer keys will always be treated as labels (consistent with DataFrame behavior). To access a value by position, use `ser.iloc[pos]`\n",
      "  t['ez2']=t.apply(lambda x:mez2.stats(x[0],x[1],x[2])[0],axis=1)\n",
      "/local/scratch/moqri/slrmtmp.43421248/ipykernel_53602/2153902538.py:62: FutureWarning: Series.__getitem__ treating keys as positions is deprecated. In a future version, integer keys will always be treated as labels (consistent with DataFrame behavior). To access a value by position, use `ser.iloc[pos]`\n",
      "  t['su']=t.apply(lambda x:msu.stats(x[0],x[1],x[2])[0],axis=1)\n"
     ]
    },
    {
     "name": "stdout",
     "output_type": "stream",
     "text": [
      "53468\n",
      "SRR4473855,......................................................\n",
      "SRR4473856,......................................................\n",
      "SRR4473857,......................................................\n",
      "SRR4473858,......................................................\n",
      "SRR4473859,......................................................\n",
      "SRR4473860,......................................................\n",
      "SRR4473861,......................................................\n",
      "SRR4473862,......................................................\n",
      "SRR4473863,......................................................\n",
      "SRR4473864,......................................................\n",
      "SRR4473865,......................................................\n",
      "SRR4473866,......................................................\n",
      "SRR4473867,......................................................\n",
      "SRR4473868,......................................................\n",
      "SRR4473869,......................................................\n",
      "SRR4473870,......................................................\n"
     ]
    }
   ],
   "source": [
    "#Calculating low methylated CpG PRC2 binding for mouse liver calorie restriction dataset (Fig 4a)\n",
    "folder='l';cell='l';cells=['SRR44738'+str(c) for c in range(55,55+16)]\n",
    "ly=pip(folder, cell,cells,hm='m')"
   ]
  },
  {
   "cell_type": "code",
   "execution_count": 17,
   "id": "36ef2054-1931-4361-8e42-3b8e2b42a48f",
   "metadata": {},
   "outputs": [],
   "source": [
    "ly.to_csv('results/l16.csv')  "
   ]
  },
  {
   "cell_type": "code",
   "execution_count": null,
   "id": "1930fdca-0816-4248-ae58-f19d26c4e12d",
   "metadata": {},
   "outputs": [],
   "source": [
    "# Fig 5 - The following LMR tables being created are cancer cell lines from TGCA\n",
    "#n = normal, t = tumour. Cell refers to the cancer type."
   ]
  },
  {
   "cell_type": "code",
   "execution_count": 35,
   "id": "142d9112-49e4-41e0-92a6-cfd031e3dbd3",
   "metadata": {},
   "outputs": [
    {
     "name": "stdout",
     "output_type": "stream",
     "text": [
      "58282\n",
      "n,.........................................................\n",
      "t1,.........................................................\n",
      "t2,.........................................................\n"
     ]
    }
   ],
   "source": [
    "folder='c/c';cell='c';cells=['n','t1','t2']\n",
    "c=pip(folder, cell,cells,hg=19)"
   ]
  },
  {
   "cell_type": "code",
   "execution_count": 36,
   "id": "eaf5981c-93cf-4827-9230-963f68d9a427",
   "metadata": {},
   "outputs": [],
   "source": [
    "c.to_csv('results/c_'+cell+'.csv')  "
   ]
  },
  {
   "cell_type": "code",
   "execution_count": 37,
   "id": "6183194d-8815-4299-bbbd-e5411812220c",
   "metadata": {},
   "outputs": [
    {
     "name": "stdout",
     "output_type": "stream",
     "text": [
      "67604\n",
      "n,...................................................................\n",
      "t1,...................................................................\n",
      "t2,...................................................................\n"
     ]
    }
   ],
   "source": [
    "folder='c/r';cell='r';cells=['n','t1','t2']\n",
    "cr=pip(folder, cell,cells,hg=19)"
   ]
  },
  {
   "cell_type": "code",
   "execution_count": 38,
   "id": "06fed9d6-84e4-4622-941b-3e339cc92638",
   "metadata": {},
   "outputs": [],
   "source": [
    "cr.to_csv('results/c_'+cell+'.csv')  "
   ]
  },
  {
   "cell_type": "code",
   "execution_count": null,
   "id": "61af9903-7798-4a7d-beb7-87cc02ac9d85",
   "metadata": {},
   "outputs": [],
   "source": [
    "folder='c/s';cell='s';cells=['n','t1','t2','t3','t4']\n",
    "cs=pip(folder, cell,cells,hg=19)"
   ]
  },
  {
   "cell_type": "code",
   "execution_count": 41,
   "id": "8a1e03f9-af12-4821-aef7-7457d835671c",
   "metadata": {},
   "outputs": [],
   "source": [
    "cs.to_csv('results/c_'+cell+'.csv')  "
   ]
  },
  {
   "cell_type": "code",
   "execution_count": 5,
   "id": "0c534ba4-88b8-42a4-a055-ea2582528765",
   "metadata": {},
   "outputs": [
    {
     "name": "stdout",
     "output_type": "stream",
     "text": [
      "59760\n",
      "n,..........................................................\n",
      "t1,..........................................................\n",
      "t2,..........................................................\n",
      "t3,..........................................................\n",
      "t4,..........................................................\n"
     ]
    }
   ],
   "source": [
    "folder='c/l';cell='lusc';cells=['n','t1','t2','t3','t4']\n",
    "cl=pip(folder, cell,cells,hg=19)"
   ]
  },
  {
   "cell_type": "code",
   "execution_count": 6,
   "id": "98a87ef9-79e7-407f-a903-be74e2e7aa13",
   "metadata": {},
   "outputs": [],
   "source": [
    "cl.to_csv('results/c_'+cell+'.csv')  "
   ]
  },
  {
   "cell_type": "code",
   "execution_count": 7,
   "id": "7573063a-0e6f-4473-9aa5-db50553d9455",
   "metadata": {},
   "outputs": [
    {
     "name": "stdout",
     "output_type": "stream",
     "text": [
      "62951\n",
      "n,.............................................................\n",
      "t1,.............................................................\n",
      "t2,.............................................................\n",
      "t3,.............................................................\n",
      "t4,.............................................................\n",
      "t5,.............................................................\n"
     ]
    }
   ],
   "source": [
    "folder='c/luad';cell='luad';cells=['n','t1','t2','t3','t4','t5']\n",
    "cld=pip(folder, cell,cells,hg=19)"
   ]
  },
  {
   "cell_type": "code",
   "execution_count": 8,
   "id": "611d9af8-af65-4375-898a-8c1b61de0d80",
   "metadata": {},
   "outputs": [],
   "source": [
    "cld.to_csv('results/c_'+cell+'.csv')  "
   ]
  },
  {
   "cell_type": "code",
   "execution_count": 9,
   "id": "434cc6ef-1c0f-4348-a4d8-4530b8bfbcb6",
   "metadata": {},
   "outputs": [
    {
     "name": "stdout",
     "output_type": "stream",
     "text": [
      "69865\n",
      "n,....................................................................\n",
      "t1,....................................................................\n",
      "t2,....................................................................\n",
      "t3,....................................................................\n",
      "t4,....................................................................\n",
      "t5,....................................................................\n"
     ]
    }
   ],
   "source": [
    "folder='c/u';cell='u';cells=['n','t1','t2','t3','t4','t5']\n",
    "cu=pip(folder, cell,cells,hg=19)"
   ]
  },
  {
   "cell_type": "code",
   "execution_count": 11,
   "id": "d8306533-fd4a-4c10-a4cd-d6e8c0571e9f",
   "metadata": {},
   "outputs": [],
   "source": [
    "cu.to_csv('results/c_'+cell+'.csv')  "
   ]
  },
  {
   "cell_type": "code",
   "execution_count": 15,
   "id": "3863916a-8898-453f-9255-9e8b01f2295c",
   "metadata": {},
   "outputs": [
    {
     "name": "stdout",
     "output_type": "stream",
     "text": [
      "64043\n",
      "n,...............................................................\n",
      "t1,...............................................................\n",
      "t2,...............................................................\n",
      "t3,...............................................................\n",
      "t4,...............................................................\n",
      "t5,...............................................................\n",
      "t6,...............................................................\n"
     ]
    }
   ],
   "source": [
    "folder='c/blca';cell='blca';cells=['n','t1','t2','t3','t4','t5','t6']\n",
    "cbl=pip(folder, cell,cells,hg=19)"
   ]
  },
  {
   "cell_type": "code",
   "execution_count": 16,
   "id": "d4bb7a6c-2f6b-4040-857b-706d74918573",
   "metadata": {},
   "outputs": [],
   "source": [
    "cbl.to_csv('results/c_'+cell+'.csv')  "
   ]
  },
  {
   "cell_type": "code",
   "execution_count": 17,
   "id": "a80a2d17-b68b-444f-97fa-4a30f2026581",
   "metadata": {},
   "outputs": [
    {
     "name": "stdout",
     "output_type": "stream",
     "text": [
      "62814\n",
      "n,.............................................................\n",
      "t1,.............................................................\n",
      "t2,.............................................................\n",
      "t3,.............................................................\n",
      "t4,.............................................................\n",
      "t5,.............................................................\n"
     ]
    }
   ],
   "source": [
    "folder='c/brca';cell='brca';cells=['n','t1','t2','t3','t4','t5']\n",
    "cbr=pip(folder, cell,cells,hg=19)"
   ]
  },
  {
   "cell_type": "code",
   "execution_count": 18,
   "id": "bbf8484b-3548-4d1a-a936-a85317b7fd5c",
   "metadata": {},
   "outputs": [],
   "source": [
    "cbr.to_csv('results/c_'+cell+'.csv')  "
   ]
  },
  {
   "cell_type": "code",
   "execution_count": null,
   "id": "b36e17dd-7bac-4802-997e-0d94f03eb6af",
   "metadata": {},
   "outputs": [],
   "source": [
    "folder='c/gbm';cell='gbm';cells=['n','t1','t2','t3','t4','t5']\n",
    "s=pip(folder, cell,cells,ez=ez9,su=su9,group='c_')"
   ]
  },
  {
   "cell_type": "code",
   "execution_count": null,
   "id": "93f7ad45-ed40-4f77-ba4a-753564496e62",
   "metadata": {},
   "outputs": [],
   "source": [
    "# single cell dataset SRP069120\n",
    "\n",
    "folder='l/sc';cell='lb';cells=['SRR3136670','SRR3136672','SRR3136631','SRR3136635','SRR3136654','SRR3136658']\n",
    "s=pip(folder, cell,cells,hm='m',group='sc_')"
   ]
  },
  {
   "cell_type": "code",
   "execution_count": 4,
   "id": "d7657554-5139-452d-978f-23729f992957",
   "metadata": {},
   "outputs": [
    {
     "name": "stdout",
     "output_type": "stream",
     "text": [
      "32286\n",
      "GSM2877177,.............................\n",
      "GSM2877184,.............................\n",
      "GSM2877239,.............................\n",
      "GSM2877242,.............................\n",
      "GSM2877183,.............................\n",
      "GSM2877238,.............................\n",
      "GSM2877229,.............................\n"
     ]
    }
   ],
   "source": [
    "# Fig 5b - Creating LMR table for brain oligodendrocytes (GSE107729)\n",
    "\n",
    "folder='b';cell='b';cells=['GSM2877177','GSM2877184','GSM2877239','GSM2877242',\n",
    "                           'GSM2877183','GSM2877238','GSM2877229']\n",
    "s=pip(folder, cell,cells)"
   ]
  },
  {
   "cell_type": "code",
   "execution_count": 4,
   "id": "1f5db409",
   "metadata": {},
   "outputs": [],
   "source": [
    "#For Fig6 PRC2-AgeIndex plots, running alternate functions only same tissue EZH2 ChIP (no SUZ12)\n",
    "\n",
    "def prc_noSuz(folder,cell,): \n",
    "    t=pd.read_csv('data/meth/'+folder+'/'+cell+'.hmr',sep='\\t',header=None,usecols=[0,1,2,4])\n",
    "    t=t[~t[0].isin(['chrX','chrY','chrM'])].copy()\n",
    "    t.columns=['ch','b','e','d']\n",
    "    t['pr']=t.apply(lambda x:ez.stats(x[0],x[1],x[2])[0],axis=1)\n",
    "    print(len(t))\n",
    "    t=bl(t,'hg38-blacklist.v2.bed.gz') \n",
    "    return t\n",
    "\n",
    "def pip2(folder, cell,cells, hm='h',group='',hg=38):\n",
    "    if hm=='h':\n",
    "        if hg==38:\n",
    "            t=prc_noSuz(folder,cell)\n",
    "        if hg==19:\n",
    "            t=prc9(folder,cell)\n",
    "    if hm=='m':\n",
    "        t=mprc(folder,cell)    \n",
    "    t=t.sort_values('pr').reset_index()\n",
    "    t=prcm(t,folder,cells)\n",
    "    return t"
   ]
  },
  {
   "cell_type": "code",
   "execution_count": 20,
   "id": "c10ce9d7",
   "metadata": {},
   "outputs": [
    {
     "name": "stdout",
     "output_type": "stream",
     "text": [
      "80176\n",
      "NEO2_P2_meth,..............................................................................\n",
      "NEO2_P5_meth,..............................................................................\n",
      "NEO2_P8_meth,..............................................................................\n"
     ]
    }
   ],
   "source": [
    "# Fig 6a - creating Neonatal fibroblast LMR table sorted by Neonatal fibroblast EZH2 binding (pr) (GSE253987)\n",
    "\n",
    "ez=pyBigWig.open('data/chip/NEO_P2_Merged_fe.bw') # EZH2 NEO passage 2 fold-change binding HG38\n",
    "\n",
    "folder='NeoFib';cell='NEO2_allPs';cells=[\"NEO2_P2_meth\",\"NEO2_P5_meth\",\"NEO2_P8_meth\"]\n",
    "neo=pip2(folder, cell,cells)"
   ]
  },
  {
   "cell_type": "code",
   "execution_count": 21,
   "id": "ce642f93",
   "metadata": {},
   "outputs": [],
   "source": [
    "#saving Neonatal fibroblast LMR table \n",
    "neo.to_csv('results/NEOP2s_methBWs_NEOMergeP2_FE.csv')"
   ]
  },
  {
   "cell_type": "code",
   "execution_count": 23,
   "id": "fb0ca52b",
   "metadata": {},
   "outputs": [
    {
     "name": "stdout",
     "output_type": "stream",
     "text": [
      "80573\n",
      "OLD3_P2_meth,...............................................................................\n",
      "OLD3_P5_meth,...............................................................................\n",
      "OLD3_P8_meth,...............................................................................\n"
     ]
    }
   ],
   "source": [
    "# Fig 6a - creating Old fibroblast LMR table sorted by Old fibroblast EZH2 binding (pr) (GSE253987)\n",
    "\n",
    "ez=pyBigWig.open('data/chip/OLD_P2_Merged_fe.bw') # EZH2 OLD passage 2 fold-change binding HG38\n",
    "\n",
    "folder='OldFib';cell='OLD3_allPs';cells=[\"OLD3_P2_meth\",\"OLD3_P5_meth\",\"OLD3_P8_meth\"]\n",
    "old=pip2(folder, cell,cells)"
   ]
  },
  {
   "cell_type": "code",
   "execution_count": 24,
   "id": "3373b686",
   "metadata": {},
   "outputs": [],
   "source": [
    "#saving old fibroblast LMR table \n",
    "\n",
    "old.to_csv('results/OLDP2s_methBWs_OLDMergeP2_FE.csv')"
   ]
  },
  {
   "cell_type": "code",
   "execution_count": 7,
   "id": "d1eba4d7",
   "metadata": {},
   "outputs": [
    {
     "name": "stdout",
     "output_type": "stream",
     "text": [
      "57874\n",
      "0,.........................................................\n",
      "18,.........................................................\n",
      "25,.........................................................\n",
      "82,.........................................................\n",
      "86,.........................................................\n",
      "103,.........................................................\n"
     ]
    }
   ],
   "source": [
    "#creating T-cell LMR table sorted by T-cell PRC2 binding (pr) (GSE79798, GSE31263 & GSE253773)\n",
    "\n",
    "ez=pyBigWig.open('data/chip/EZH2_CD4_pooled_ENCinp_fe.bw') # EZH2 T-cell fold-change binding HG38\n",
    "\n",
    "folder='t';cell='t';cells=['0','18','25','82','86','103']\n",
    "t=pip2(folder, cell,cells)"
   ]
  },
  {
   "cell_type": "code",
   "execution_count": 8,
   "id": "849a604f",
   "metadata": {},
   "outputs": [],
   "source": [
    "t.to_csv('results/t_cell_lmrs_CD4pooled_prc2_ENCinp_FE_meth.csv') "
   ]
  },
  {
   "cell_type": "code",
   "execution_count": 27,
   "id": "30a58044",
   "metadata": {},
   "outputs": [
    {
     "name": "stdout",
     "output_type": "stream",
     "text": [
      "80176\n",
      "NEO2_P2_meth,..............................................................................\n",
      "NEO2_P5_meth,..............................................................................\n",
      "NEO2_P8_meth,..............................................................................\n"
     ]
    }
   ],
   "source": [
    "#creating Neonatal fibroblast LMR table sorted by hESC PRC2 binding (pr) (GSE253985)\n",
    "\n",
    "#loading hESC EZH2 and SUZ12 binding\n",
    "ez=pyBigWig.open('/Users/dsimps93/Project_FibroPass/OurLMRs_Mahdi_ver2/Recreate/data/chip_ezh2/ENCFF105JFX.bigWig') # EZH2 esc fold \n",
    "su=pyBigWig.open('/Users/dsimps93/Project_FibroPass/OurLMRs_Mahdi_ver2/Recreate/data/chip_emb_suz/ENCFF224RZW.bigWig') # suz12 esc fold \n",
    "\n",
    "folder='NeoFib';cell='NEO2_allPs';cells=[\"NEO2_P2_meth\",\"NEO2_P5_meth\",\"NEO2_P8_meth\"]\n",
    "neo=pip(folder, cell,cells)"
   ]
  },
  {
   "cell_type": "code",
   "execution_count": 28,
   "id": "27170e24",
   "metadata": {},
   "outputs": [],
   "source": [
    "neo.to_csv('results/NEOP2s_methBWs_hESCord_FE.csv')"
   ]
  },
  {
   "cell_type": "code",
   "execution_count": 29,
   "id": "15692f8d",
   "metadata": {},
   "outputs": [
    {
     "name": "stdout",
     "output_type": "stream",
     "text": [
      "80573\n",
      "OLD3_P2_meth,...............................................................................\n",
      "OLD3_P5_meth,...............................................................................\n",
      "OLD3_P8_meth,...............................................................................\n"
     ]
    }
   ],
   "source": [
    "#creating Old fibroblast LMR table sorted by hESC PRC2 binding (pr) (GSE253985)\n",
    "\n",
    "#loading hESC EZH2 and SUZ12 binding\n",
    "ez=pyBigWig.open('/Users/dsimps93/Project_FibroPass/OurLMRs_Mahdi_ver2/Recreate/data/chip_ezh2/ENCFF105JFX.bigWig') # EZH2 esc fold \n",
    "su=pyBigWig.open('/Users/dsimps93/Project_FibroPass/OurLMRs_Mahdi_ver2/Recreate/data/chip_emb_suz/ENCFF224RZW.bigWig') # suz12 esc fold \n",
    "\n",
    "folder='OldFib';cell='OLD3_allPs';cells=[\"OLD3_P2_meth\",\"OLD3_P5_meth\",\"OLD3_P8_meth\"]\n",
    "old=pip(folder, cell,cells)"
   ]
  },
  {
   "cell_type": "code",
   "execution_count": 30,
   "id": "9f73b7da",
   "metadata": {},
   "outputs": [],
   "source": [
    "old.to_csv('results/OLDP2s_methBWs_hESCord_FE.csv')"
   ]
  },
  {
   "cell_type": "code",
   "execution_count": 33,
   "id": "8de20ac3",
   "metadata": {},
   "outputs": [
    {
     "name": "stdout",
     "output_type": "stream",
     "text": [
      "77273\n",
      "NEO2_P2_meth,...........................................................................\n",
      "NEO2_P5_meth,...........................................................................\n",
      "NEO2_P8_meth,...........................................................................\n",
      "OLD3_P2_meth,...........................................................................\n",
      "OLD3_P5_meth,...........................................................................\n",
      "OLD3_P8_meth,...........................................................................\n"
     ]
    }
   ],
   "source": [
    "#creating Neo and Old fibroblast LMR table sorted by hESC PRC2 binding (pr) (GSE253985)\n",
    "\n",
    "#loading hESC EZH2 and SUZ12 binding\n",
    "ez=pyBigWig.open('/Users/dsimps93/Project_FibroPass/OurLMRs_Mahdi_ver2/Recreate/data/chip_ezh2/ENCFF105JFX.bigWig') # EZH2 esc fold \n",
    "su=pyBigWig.open('/Users/dsimps93/Project_FibroPass/OurLMRs_Mahdi_ver2/Recreate/data/chip_emb_suz/ENCFF224RZW.bigWig') # suz12 esc fold \n",
    "\n",
    "folder='Neo&OldFib';cell='ALL_fibropass';cells=[\"NEO2_P2_meth\",\"NEO2_P5_meth\",\"NEO2_P8_meth\",\"OLD3_P2_meth\",\"OLD3_P5_meth\",\"OLD3_P8_meth\"]\n",
    "NewOld=pip(folder, cell,cells)"
   ]
  },
  {
   "cell_type": "code",
   "execution_count": 34,
   "id": "d0981cf6",
   "metadata": {},
   "outputs": [],
   "source": [
    "NewOld.to_csv('results/Neo&Old_methBWs_hESCord_FE.csv')"
   ]
  }
 ],
 "metadata": {
  "kernelspec": {
   "display_name": "Python 3 (ipykernel)",
   "language": "python",
   "name": "python3"
  },
  "language_info": {
   "codemirror_mode": {
    "name": "ipython",
    "version": 3
   },
   "file_extension": ".py",
   "mimetype": "text/x-python",
   "name": "python",
   "nbconvert_exporter": "python",
   "pygments_lexer": "ipython3",
   "version": "3.11.7"
  }
 },
 "nbformat": 4,
 "nbformat_minor": 5
}
