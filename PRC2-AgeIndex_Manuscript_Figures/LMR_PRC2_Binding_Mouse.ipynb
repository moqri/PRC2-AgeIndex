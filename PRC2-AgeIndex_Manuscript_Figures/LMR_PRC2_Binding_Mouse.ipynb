{
 "cells": [
  {
   "cell_type": "code",
   "execution_count": 4,
   "id": "8ca5d209-31d8-45a5-b6e4-0a63470b8364",
   "metadata": {},
   "outputs": [],
   "source": [
    "data='../data/'\n",
    "# data/chip contains chip-seq data\n",
    "# data/e contains mouse ESC HMR track\n",
    "# data/mm10-blacklist.v2.bed.gz = mouse black list\n",
    "\n",
    "#Loading packages and functions for finding PRC2 binding in LMRs in Mouse\n",
    "\n",
    "import pandas as pd\n",
    "import pyBigWig \n",
    "\n",
    "#please refer to s.table 1 to download the following bigwig files into the data/chip folder to run \n",
    "mez1=pyBigWig.open(data+'chip/SRX2528911.bw') # EZH2 rep1 mesc chip-atlas\n",
    "mez2=pyBigWig.open(data+'chip/SRX2528912.bw') # EZH2 rep2 mesc chip-atlas\n",
    "msu=pyBigWig.open(data+'chip/SRX4338248.bw') # SUZ12 mesc chip-atlas\n",
    "\n",
    "#remove ENCODE blacklist regions - bias high signal regions that are problematic in ChIP experiments\n",
    "def bl(t,b):\n",
    "    bl=pd.read_table(data+b,header=None)\n",
    "    bl['r']=bl.apply(lambda x: set(range(x[1],x[2])),axis=1)\n",
    "    bg=bl.groupby(0)['r'].apply(list)\n",
    "    bg=bg.apply(lambda x:set.union(*x))   \n",
    "    t['r']=t.apply(lambda x: set(range(x[1],x[2])),axis=1)\n",
    "    t['bl']=t.apply(lambda x: len(x['r'].intersection(bg[x['ch']])),axis=1)\n",
    "    t=t[t['bl']==0].drop('r',axis=1)\n",
    "    return t"
   ]
  },
  {
   "cell_type": "code",
   "execution_count": 7,
   "id": "51a6627c-0ee1-48e4-b8a1-6a1d561c79c5",
   "metadata": {},
   "outputs": [
    {
     "name": "stderr",
     "output_type": "stream",
     "text": [
      "/local/scratch/moqri/slrmtmp.43007249/ipykernel_52922/3869699129.py:20: FutureWarning: Series.__getitem__ treating keys as positions is deprecated. In a future version, integer keys will always be treated as labels (consistent with DataFrame behavior). To access a value by position, use `ser.iloc[pos]`\n",
      "  t['r']=t.apply(lambda x: set(range(x[1],x[2])),axis=1)\n",
      "/local/scratch/moqri/slrmtmp.43007249/ipykernel_52922/1936297017.py:10: FutureWarning: Series.__getitem__ treating keys as positions is deprecated. In a future version, integer keys will always be treated as labels (consistent with DataFrame behavior). To access a value by position, use `ser.iloc[pos]`\n",
      "  t['ez1']=t.apply(lambda x:mez1.stats(x[0],x[1],x[2])[0],axis=1)\n",
      "/local/scratch/moqri/slrmtmp.43007249/ipykernel_52922/1936297017.py:11: FutureWarning: Series.__getitem__ treating keys as positions is deprecated. In a future version, integer keys will always be treated as labels (consistent with DataFrame behavior). To access a value by position, use `ser.iloc[pos]`\n",
      "  t['ez2']=t.apply(lambda x:mez2.stats(x[0],x[1],x[2])[0],axis=1)\n",
      "/local/scratch/moqri/slrmtmp.43007249/ipykernel_52922/1936297017.py:12: FutureWarning: Series.__getitem__ treating keys as positions is deprecated. In a future version, integer keys will always be treated as labels (consistent with DataFrame behavior). To access a value by position, use `ser.iloc[pos]`\n",
      "  t['su']=t.apply(lambda x:msu.stats(x[0],x[1],x[2])[0],axis=1)\n"
     ]
    },
    {
     "name": "stdout",
     "output_type": "stream",
     "text": [
      "37919\n"
     ]
    }
   ],
   "source": [
    "# get prc2 binding in mouse ESC LMRs\n",
    "folder='e';cell='em';\n",
    "t=pd.read_csv(data+'meth/'+folder+'/'+cell+'.hmr',sep='\\t',header=None)\n",
    "t=t[~t[0].isin(['chrX','chrY','chrM'])].copy()\n",
    "t=t[~t[0].str.contains('random')].copy()\n",
    "t=t[~t[0].str.contains('Un')].copy()\n",
    "t['d']=t[2]-t[1]\n",
    "t.columns=['ch','b','e','d']\n",
    "t=bl(t,'mm10-blacklist.v2.bed.gz')\n",
    "t['ez1']=t.apply(lambda x:mez1.stats(x[0],x[1],x[2])[0],axis=1)\n",
    "t['ez2']=t.apply(lambda x:mez2.stats(x[0],x[1],x[2])[0],axis=1)    \n",
    "t['su']=t.apply(lambda x:msu.stats(x[0],x[1],x[2])[0],axis=1)\n",
    "for c in ['ez1','ez2','su']:\n",
    "    t[c]=t[c]/t[c].max()\n",
    "t['pr']=t[['ez1','ez2','su']].mean(1)   \n",
    "print(len(t))    "
   ]
  },
  {
   "cell_type": "code",
   "execution_count": 9,
   "id": "050d2c48-7bbe-4708-a710-7450db43b27b",
   "metadata": {},
   "outputs": [],
   "source": [
    "# sort and save \n",
    "h=t.copy()\n",
    "ht=h.sort_values('pr',ascending=False).head(1000)\n",
    "ht[ht.d>100].to_csv('results/mm10_top_PRC2_d100.csv',index=False)"
   ]
  },
  {
   "cell_type": "code",
   "execution_count": null,
   "id": "8f94d140-a500-42ab-99c3-245e344f2d40",
   "metadata": {},
   "outputs": [],
   "source": []
  }
 ],
 "metadata": {
  "kernelspec": {
   "display_name": "Python 3 (ipykernel)",
   "language": "python",
   "name": "python3"
  },
  "language_info": {
   "codemirror_mode": {
    "name": "ipython",
    "version": 3
   },
   "file_extension": ".py",
   "mimetype": "text/x-python",
   "name": "python",
   "nbconvert_exporter": "python",
   "pygments_lexer": "ipython3",
   "version": "3.11.7"
  }
 },
 "nbformat": 4,
 "nbformat_minor": 5
}
