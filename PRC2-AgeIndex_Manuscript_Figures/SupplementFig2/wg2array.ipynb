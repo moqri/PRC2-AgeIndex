{
 "cells": [
  {
   "cell_type": "code",
   "execution_count": 1,
   "id": "042d71d6-2c58-47d3-b0bc-8d07ea243f3c",
   "metadata": {},
   "outputs": [],
   "source": [
    "#this script is for finding methylation of Illumina methylarray CpGs within WGBS data so that array-based published epigenetic clocks can be applied\n",
    "\n",
    "import pandas as pd\n",
    "an='https://github.com/zhou-lab/InfiniumAnnotationV1/raw/main/Anno/HM450/HM450.hg38.manifest.tsv.gz'"
   ]
  },
  {
   "cell_type": "code",
   "execution_count": 2,
   "id": "98d658e6-3b83-4001-abce-da96a4b94d48",
   "metadata": {},
   "outputs": [
    {
     "data": {
      "text/plain": [
       "(486427, 3)"
      ]
     },
     "execution_count": 2,
     "metadata": {},
     "output_type": "execute_result"
    }
   ],
   "source": [
    "an=pd.read_table(an,usecols=['Probe_ID','CpG_chrm','CpG_beg'])\n",
    "an.shape"
   ]
  },
  {
   "cell_type": "code",
   "execution_count": 11,
   "id": "2499e1ff-b2aa-4b3c-a377-0057559ef236",
   "metadata": {},
   "outputs": [
    {
     "name": "stdout",
     "output_type": "stream",
     "text": [
      "CPU times: user 4min 38s, sys: 14.8 s, total: 4min 53s\n",
      "Wall time: 5min 5s\n"
     ]
    }
   ],
   "source": [
    "%%time \n",
    "path='/labs/mpsnyder/moqri/emi/data/meth/t/t4/meth/'\n",
    "for cell in ['18','25_1','25_2','82','86','Human_CD4T-Newborn','Human_CD4T-100yr']:\n",
    "    df=pd.read_table(path+cell+'.meth',header=None,usecols=[0,1,4])\n",
    "    df.columns=['CpG_chrm','CpG_beg','beta']\n",
    "    df=an.merge(df,how='left')\n",
    "    df.to_csv('../data/rev/t4/'+cell+'.csv')"
   ]
  },
  {
   "cell_type": "code",
   "execution_count": 7,
   "id": "b5f7ba5b-b1b5-4d04-99e9-f7ab6041dd01",
   "metadata": {},
   "outputs": [
    {
     "name": "stdout",
     "output_type": "stream",
     "text": [
      "CPU times: user 3min 32s, sys: 10.3 s, total: 3min 42s\n",
      "Wall time: 3min 44s\n"
     ]
    }
   ],
   "source": [
    "%%time \n",
    "path='/labs/mpsnyder/moqri/emi/data/meth/s/'\n",
    "for cell in ['18','23','25','74','75','83']:\n",
    "    df=pd.read_table(path+cell+'.meth',header=None,usecols=[0,1,4])\n",
    "    df.columns=['CpG_chrm','CpG_beg','beta']\n",
    "    df=an.merge(df,how='left')\n",
    "    df.to_csv('../data/rev/s/'+cell+'.csv')"
   ]
  },
  {
   "cell_type": "code",
   "execution_count": 3,
   "id": "6353e0fd-743e-40c3-be16-de5e9ab64841",
   "metadata": {},
   "outputs": [
    {
     "name": "stdout",
     "output_type": "stream",
     "text": [
      "413,414,415,416,722,CPU times: user 3min 25s, sys: 9.52 s, total: 3min 35s\n",
      "Wall time: 3min 35s\n"
     ]
    }
   ],
   "source": [
    "%%time \n",
    "path='/labs/mpsnyder/moqri/emi/data/meth/f/meth/SRR3264'\n",
    "for cell in ['413','414','415','416','722']:\n",
    "    print(cell,end=',')\n",
    "    df=pd.read_table(path+cell+'.meth',header=None,usecols=[0,1,4])\n",
    "    df.columns=['CpG_chrm','CpG_beg','beta']\n",
    "    df=an.merge(df,how='left')\n",
    "    df.to_csv('../data/rev/f/'+cell+'.csv')"
   ]
  },
  {
   "cell_type": "code",
   "execution_count": null,
   "id": "fda559a4-2953-4e30-8b8f-79336fcbab43",
   "metadata": {},
   "outputs": [],
   "source": []
  }
 ],
 "metadata": {
  "kernelspec": {
   "display_name": "Python 3 (ipykernel)",
   "language": "python",
   "name": "python3"
  },
  "language_info": {
   "codemirror_mode": {
    "name": "ipython",
    "version": 3
   },
   "file_extension": ".py",
   "mimetype": "text/x-python",
   "name": "python",
   "nbconvert_exporter": "python",
   "pygments_lexer": "ipython3",
   "version": "3.10.9"
  }
 },
 "nbformat": 4,
 "nbformat_minor": 5
}
