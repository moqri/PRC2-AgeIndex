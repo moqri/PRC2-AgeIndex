{
 "cells": [
  {
   "cell_type": "code",
   "execution_count": 1,
   "id": "4ae9fa7d-eb43-45af-b238-22574598c9b2",
   "metadata": {},
   "outputs": [],
   "source": [
    "import pandas as pd\n",
    "import pyBigWig \n",
    "import seaborn as sns\n",
    "import matplotlib.pyplot as plt"
   ]
  },
  {
   "cell_type": "code",
   "execution_count": 2,
   "id": "c07bb2a0-fe66-441f-b53b-950bc46820a2",
   "metadata": {},
   "outputs": [],
   "source": [
    "# SUZ12 ChIP in Fibroblast from https://chip-atlas.dbcls.jp/data/hg38/eachData/bw/SRX3468052.bw\n",
    "chip=pyBigWig.open('data/chip/SRX3468052_suz12_fib.bw') "
   ]
  },
  {
   "cell_type": "code",
   "execution_count": 20,
   "id": "4695160f-3fcb-4c25-ab30-33d62916f6b1",
   "metadata": {},
   "outputs": [],
   "source": [
    "# filter blacklist\n",
    "def bl(t):\n",
    "    bl=pd.read_table('data/ref/hg38-blacklist.v2.bed',header=None)\n",
    "    bl['r']=bl.apply(lambda x: set(range(x[1],x[2])),axis=1)\n",
    "    bg=bl.groupby(0)['r'].apply(list)\n",
    "    bg=bg.apply(lambda x:set.union(*x))   \n",
    "    t['r']=t.apply(lambda x: set(range(x[1],x[2])),axis=1)\n",
    "    t['bl']=t.apply(lambda x: len(x['r'].intersection(bg[x['ch']])),axis=1)\n",
    "    t=t[t['bl']==0].drop('r',axis=1)\n",
    "    return t\n",
    "# get PRC levels in HMRs\n",
    "def prc(bw_folder,hmr): \n",
    "    t=pd.read_csv('data/DNAm/'+hmr,sep='\\t',header=None,usecols=[0,1,2,4])\n",
    "    t=t[~t[0].isin(['chrX','chrY','chrM'])].copy()\n",
    "    t.columns=['ch','b','e','d']\n",
    "    t['prc']=t.apply(lambda x:chip.stats(x[0],x[1],x[2])[0],axis=1)\n",
    "    print(len(t))\n",
    "    t=bl(t) \n",
    "    return t\n",
    "# get DNAm levels in HMRs\n",
    "def prcm(dft,bw_folder,cells): \n",
    "    path='data/DNAm/'+bw_folder+'/'\n",
    "    for cell in cells:\n",
    "        bs=[]\n",
    "        print(cell,end=',')\n",
    "        bw=pyBigWig.open(path+cell+'.bw')\n",
    "        for i,r in dft.iterrows():\n",
    "            if (i % 1000) == 0:print('.',end='')\n",
    "            bs.append(bw.stats(r['ch'],r['b'],r['e'])[0])\n",
    "        print()\n",
    "        dft[cell]=bs\n",
    "    dft=dft.dropna().copy().round(3)\n",
    "    return dft\n",
    "# adjust HMR_DNAms for length of HMR\n",
    "def prc_cpg(dft,cells):\n",
    "    c0=cells[0]\n",
    "    l=dft.apply(lambda x:x['d']*[x[c0]],axis=1)\n",
    "    l=[item for sublist in l for item in sublist]\n",
    "    df=pd.DataFrame(l)\n",
    "    df.columns=[c0]\n",
    "    for cell in cells[1:]:\n",
    "        l=dft.apply(lambda x:x['d']*[x[cell]],axis=1)\n",
    "        l=[item for sublist in l for item in sublist]\n",
    "        df[cell]=l\n",
    "    return df\n",
    "# plot DNAm at LMRs\n",
    "def pprc(tp,color=[],title='DNAm at LMRs',r=10**5,w=3,ylabel='DNAm',figure='f'):\n",
    "    if len(color)>0:\n",
    "        ax=tp.rolling(r).mean().dropna().plot(figsize=(w,2),color=color)    \n",
    "    else:\n",
    "        ax=tp.rolling(r).mean().dropna().plot(figsize=(w,2))    \n",
    "    ax.get_legend().remove()\n",
    "    ax.set_xticks([])\n",
    "    ax.set_xlabel('LMRs ranked by PRC2 binding', fontsize=10)\n",
    "    ax.set(ylabel=ylabel,title=title);\n",
    "    ax.get_figure().savefig('figures/'+figure+'.png', dpi=600,bbox_inches='tight')\n",
    "# plot DNAm at High-PRC2 LMRs\n",
    "def pprch(tp,n,m,color=None,labels=[],legend_title='years',figure='f',title=''):\n",
    "    dg=tp.tail(round(n)).rolling(round(m)).mean().dropna()\n",
    "    ax=dg.plot(figsize=(1.2,2),color=color)\n",
    "    if len(labels)==0: \n",
    "        labels=tp.columns\n",
    "        handles, labels = ax.get_legend_handles_labels()    \n",
    "        ax.legend(handles[::-1], labels[::-1],title=legend_title,loc='center left', bbox_to_anchor=(1, 0.5))    \n",
    "    else:\n",
    "        handles, l = ax.get_legend_handles_labels()    \n",
    "        ax.legend([handles[-1],handles[0]], [labels[-1],labels[0]],title=legend_title,loc='center left', bbox_to_anchor=(1, 0.5))    \n",
    "    ax.set_xticks([])\n",
    "    ax.set_xlabel('PRC2 binding', fontsize=10)  \n",
    "    ax.set_title('DNAm at High-PRC2 LMRs')    \n",
    "    ax.get_figure().savefig('figures/'+figure+'.png', dpi=600,bbox_inches='tight')\n",
    "    return dg"
   ]
  },
  {
   "cell_type": "code",
   "execution_count": 14,
   "id": "ff56f4f3-7e59-46ff-bdc8-eff86fadac48",
   "metadata": {},
   "outputs": [
    {
     "name": "stdout",
     "output_type": "stream",
     "text": [
      "77733\n"
     ]
    }
   ],
   "source": [
    "# get PRC levels in HMRs\n",
    "bw_folder='fibroblast/GSE79798_DNAm_fibroblast'\n",
    "hmr='fibroblast/sebastiano_fetal_fibroblast_wgbs.hmr'\n",
    "f=prc(bw_folder,hmr)"
   ]
  },
  {
   "cell_type": "code",
   "execution_count": 18,
   "id": "32c4340f-9478-4f13-8011-c74693eafc4d",
   "metadata": {},
   "outputs": [
    {
     "name": "stdout",
     "output_type": "stream",
     "text": [
      "4,...........................................................................\n",
      "7,...........................................................................\n",
      "10,...........................................................................\n",
      "31,...........................................................................\n",
      "33,...........................................................................\n"
     ]
    }
   ],
   "source": [
    "# get DNAm levels in HMRs\n",
    "cells=['4','7','10','31','33']\n",
    "f=f.sort_values('prc').reset_index()\n",
    "f=prcm(f,bw_folder,cells).round(3)\n",
    "f.to_csv('data/results/sebastiano_fetal_fibroblast_wgbs_hmr_SRX3468052_suz12_fib.csv')"
   ]
  },
  {
   "cell_type": "code",
   "execution_count": 21,
   "id": "f5749b76-59de-49bd-904a-d2d4976a1c64",
   "metadata": {},
   "outputs": [],
   "source": [
    "#adjust for HMR length\n",
    "cells=['4','7','10','31','33']\n",
    "f=pd.read_csv('data/results/sebastiano_fetal_fibroblast_wgbs_hmr_SRX3468052_suz12_fib.csv',index_col=0)\n",
    "fp=prc_cpg(f,cells)"
   ]
  },
  {
   "cell_type": "code",
   "execution_count": null,
   "id": "2e85710a-15eb-44a5-9b13-8c240a4d4c34",
   "metadata": {},
   "outputs": [],
   "source": [
    "#plot\n",
    "dg=pprc(fp[cells],r=10**6,figure='f5_c_lmr_FIB')\n",
    "dg=pprch(fp[cells],10**6,10**5,legend_title='passage',figure='f5_c_prc_FIB')"
   ]
  },
  {
   "cell_type": "code",
   "execution_count": null,
   "id": "14fa0ca0-5a91-4fb9-bf02-6f7441e817f1",
   "metadata": {},
   "outputs": [],
   "source": []
  }
 ],
 "metadata": {
  "kernelspec": {
   "display_name": "meth",
   "language": "python",
   "name": "meth"
  },
  "language_info": {
   "codemirror_mode": {
    "name": "ipython",
    "version": 3
   },
   "file_extension": ".py",
   "mimetype": "text/x-python",
   "name": "python",
   "nbconvert_exporter": "python",
   "pygments_lexer": "ipython3",
   "version": "3.10.9"
  }
 },
 "nbformat": 4,
 "nbformat_minor": 5
}
