{
 "cells": [
  {
   "cell_type": "code",
   "execution_count": 49,
   "id": "dea0253a",
   "metadata": {},
   "outputs": [],
   "source": [
    "\n",
    "#Loading packages and functions\n",
    "\n",
    "#Python 3.10.13 was used to run this example\n",
    "\n",
    "#pandas ver 1.4.2\n",
    "import pandas as pd\n",
    "#pyBigWig ver 0.3.22\n",
    "import pyBigWig \n",
    "#matplotlib ver 3.7.1\n",
    "import matplotlib.pyplot as plt\n",
    "#seaborn ver 0.11.2\n",
    "import seaborn as sns\n",
    "#geoparse ver 2.0.4\n",
    "import GEOparse\n",
    "#wget ver 1.21.4\n",
    "import wget\n",
    "\n",
    "import glob\n",
    "\n",
    "\n",
    "#remove ENCODE blacklist regions - bias high signal regions that are problematic in ChIP experiments\n",
    "def bl(t,b): \n",
    "    bl=pd.read_table('data/'+b,header=None)\n",
    "    bl['r']=bl.apply(lambda x: set(range(x[1],x[2])),axis=1)\n",
    "    bg=bl.groupby(0)['r'].apply(list)\n",
    "    bg=bg.apply(lambda x:set.union(*x))   \n",
    "    t['r']=t.apply(lambda x: set(range(x[1],x[2])),axis=1)\n",
    "    t['bl']=t.apply(lambda x: len(x['r'].intersection(bg[x['ch']])),axis=1)\n",
    "    t=t[t['bl']==0].drop('r',axis=1)\n",
    "    return t\n",
    "\n",
    "#plotting total methylation per sample \n",
    "def pwg(cells,folder,x,chrs=22,color=[],w=.9,ylabel='DNAm',figure='f'): \n",
    "    bs=[]\n",
    "    for cell in cells:\n",
    "        print(cell,end=',')\n",
    "        #bw=pyBigWig.open('data/'+folder+cell+'.bw')\n",
    "        bw = pyBigWig.open(next(iter(glob.glob('data/' + folder + '*/*' + cell + '.bw'))))\n",
    "        bsc=[]\n",
    "        for ch in range(1,chrs+1):\n",
    "            bsc.append(bw.stats('chr'+str(ch),0,-1)[0])\n",
    "        bs.append(bsc)\n",
    "    bs=pd.DataFrame(bs)\n",
    "    pl=pd.DataFrame(bs.mean(1))\n",
    "    pl[x]=cells\n",
    "    fig, ax = plt.subplots(figsize=(w,2));\n",
    "    ax=sns.barplot(data=pl,x=x,y=0);\n",
    "    ax.set(ylabel=ylabel,title='All CpGs');\n",
    "    plt.xticks(rotation=90,fontsize=8); \n",
    "    fig.savefig('figures/'+figure+'.png', dpi=600,bbox_inches='tight')\n",
    "    return bs\n",
    "\n",
    "#PRC2 AgeIndex plot - plotting percentage methylation (rolling average) against LMRs sorted by PRC2 binding \n",
    "def pprc(tp,color=[],title='DNAm at LMRs',r=10**5,w=3,ylabel='DNAm',figure='f'):\n",
    "    ax=tp.rolling(r).mean().dropna().plot(figsize=(w,2))    \n",
    "    ax.get_legend().remove()\n",
    "    ax.set_xticks([])\n",
    "    ax.set_xlabel('LMRs ranked by PRC2 binding', fontsize=10)\n",
    "    ax.set(ylabel=ylabel,title=title);\n",
    "    ax.get_figure().savefig('figures/'+figure+'.png', dpi=600,bbox_inches='tight')\n",
    "    plt.show()\n",
    "    \n",
    "#Zoomed in plot of right hand side of PRC2 AgeIndex Plot\n",
    "def pprch(tp,n,m,color=None,labels=[],legend_title='years',figure='f',title=''):\n",
    "    dg=tp.tail(round(10**n)).rolling(round(10**m)).mean().dropna()\n",
    "    ax=dg.plot(figsize=(1.2,2),color=color)\n",
    "    labels=tp.columns\n",
    "    handles, labels = ax.get_legend_handles_labels()    \n",
    "    ax.legend(handles[::-1], labels[::-1],title=legend_title,loc='center left', bbox_to_anchor=(1, 0.5))    \n",
    "    ax.set_xticks([])\n",
    "    ax.set_xlabel('PRC2 binding', fontsize=10)  \n",
    "    ax.set_title('DNAm at High-PRC2 LMRs')    \n",
    "    ax.get_figure().savefig('figures/'+figure+'.png', dpi=600,bbox_inches='tight')\n",
    "    return dg    \n",
    "\n",
    "#Further zoom of right hand side of PRC2 AgeIndex Plot\n",
    "def pprchz(tp,n,m,color=None,labels=[],legend_title='years',figure='f',title=''):\n",
    "    dg=tp.tail(round(9**n)).rolling(round(10**m)).mean().dropna()\n",
    "    ax=dg.plot(figsize=(1.2,2),color=color)\n",
    "    if len(labels)==0: \n",
    "        labels=tp.columns\n",
    "        handles, labels = ax.get_legend_handles_labels()    \n",
    "        ax.legend(handles[::-1], labels[::-1],title=legend_title,loc='center left', bbox_to_anchor=(1, 0.5))    \n",
    "    else:\n",
    "        handles, l = ax.get_legend_handles_labels()    \n",
    "        ax.legend([handles[-1],handles[0]], [labels[-1],labels[0]],title=legend_title,loc='center left', bbox_to_anchor=(1, 0.5))    \n",
    "    ax.set_xticks([])\n",
    "    ax.set_xlabel('PRC2 binding', fontsize=10)  \n",
    "    ax.set_title('DNAm at High-PRC2 LMRs')    \n",
    "    ax.get_figure().savefig('figures/'+figure+'.png', dpi=600,bbox_inches='tight')\n",
    "    return dg"
   ]
  },
  {
   "cell_type": "code",
   "execution_count": 40,
   "id": "6290ff9d",
   "metadata": {
    "scrolled": false
   },
   "outputs": [
    {
     "name": "stderr",
     "output_type": "stream",
     "text": [
      "21-Jun-2024 10:44:01 DEBUG utils - Directory ./data/meth/NeoFib already exists. Skipping.\n",
      "21-Jun-2024 10:44:01 INFO GEOparse - Downloading ftp://ftp.ncbi.nlm.nih.gov/geo/series/GSE253nnn/GSE253985/soft/GSE253985_family.soft.gz to ./data/meth/NeoFib/GSE253985_family.soft.gz\n",
      "100%|██████████| 3.07k/3.07k [00:00<00:00, 9.59kB/s]\n",
      "21-Jun-2024 10:44:01 DEBUG downloader - Size validation passed\n",
      "21-Jun-2024 10:44:01 DEBUG downloader - Moving /var/folders/vc/_r7tgfkn3gxfg9s69xwg97zw0000gr/T/tmpb_z53ujk to /Users/dsimps93/PRC2_Index_MSver_Clean/PRC2AgeIndex_User_Friendly_Example/data/meth/NeoFib/GSE253985_family.soft.gz\n",
      "21-Jun-2024 10:44:01 DEBUG downloader - Successfully downloaded ftp://ftp.ncbi.nlm.nih.gov/geo/series/GSE253nnn/GSE253985/soft/GSE253985_family.soft.gz\n",
      "21-Jun-2024 10:44:01 INFO GEOparse - Parsing ./data/meth/NeoFib/GSE253985_family.soft.gz: \n",
      "21-Jun-2024 10:44:01 DEBUG GEOparse - DATABASE: GeoMiame\n",
      "21-Jun-2024 10:44:01 DEBUG GEOparse - SERIES: GSE253985\n",
      "21-Jun-2024 10:44:01 DEBUG GEOparse - PLATFORM: GPL24676\n",
      "21-Jun-2024 10:44:01 DEBUG GEOparse - SAMPLE: GSM8031497\n",
      "21-Jun-2024 10:44:01 DEBUG GEOparse - SAMPLE: GSM8031498\n",
      "21-Jun-2024 10:44:01 DEBUG GEOparse - SAMPLE: GSM8031499\n",
      "21-Jun-2024 10:44:01 DEBUG GEOparse - SAMPLE: GSM8031500\n",
      "21-Jun-2024 10:44:01 DEBUG GEOparse - SAMPLE: GSM8031501\n",
      "21-Jun-2024 10:44:01 DEBUG GEOparse - SAMPLE: GSM8031502\n",
      "21-Jun-2024 10:44:01 DEBUG utils - Directory /Users/dsimps93/PRC2_Index_MSver_Clean/PRC2AgeIndex_User_Friendly_Example/data/meth/NeoFib already exists. Skipping.\n",
      "21-Jun-2024 10:44:01 INFO GEOTypes - Downloading SRA files for GSM8031497 series\n",
      "\n",
      "100%|██████████| 372M/372M [01:19<00:00, 4.90MB/s]    \n",
      "21-Jun-2024 10:45:21 DEBUG downloader - Size validation passed\n",
      "21-Jun-2024 10:45:21 DEBUG downloader - Moving /var/folders/vc/_r7tgfkn3gxfg9s69xwg97zw0000gr/T/tmp6382yfzh to /Users/dsimps93/PRC2_Index_MSver_Clean/PRC2AgeIndex_User_Friendly_Example/data/meth/NeoFib/Supp_GSM8031497_NEO_Biological_Rep_2__Passage_2/GSM8031497_NEO2_P2_meth.bw\n",
      "21-Jun-2024 10:45:22 DEBUG downloader - Successfully downloaded ftp://ftp.ncbi.nlm.nih.gov/geo/samples/GSM8031nnn/GSM8031497/suppl/GSM8031497_NEO2_P2_meth.bw\n",
      "21-Jun-2024 10:45:22 INFO GEOTypes - Downloading SRA files for GSM8031498 series\n",
      "\n",
      "100%|██████████| 378M/378M [01:03<00:00, 6.24MB/s]   \n",
      "21-Jun-2024 10:46:26 DEBUG downloader - Size validation passed\n",
      "21-Jun-2024 10:46:26 DEBUG downloader - Moving /var/folders/vc/_r7tgfkn3gxfg9s69xwg97zw0000gr/T/tmpvbhnqypq to /Users/dsimps93/PRC2_Index_MSver_Clean/PRC2AgeIndex_User_Friendly_Example/data/meth/NeoFib/Supp_GSM8031498_NEO_Biological_Rep_2__Passage_5/GSM8031498_NEO2_P5_meth.bw\n",
      "21-Jun-2024 10:46:26 DEBUG downloader - Successfully downloaded ftp://ftp.ncbi.nlm.nih.gov/geo/samples/GSM8031nnn/GSM8031498/suppl/GSM8031498_NEO2_P5_meth.bw\n",
      "21-Jun-2024 10:46:26 INFO GEOTypes - Downloading SRA files for GSM8031499 series\n",
      "\n",
      "100%|██████████| 374M/374M [01:22<00:00, 4.74MB/s]   \n",
      "21-Jun-2024 10:47:49 DEBUG downloader - Size validation passed\n",
      "21-Jun-2024 10:47:49 DEBUG downloader - Moving /var/folders/vc/_r7tgfkn3gxfg9s69xwg97zw0000gr/T/tmpkm3uxxug to /Users/dsimps93/PRC2_Index_MSver_Clean/PRC2AgeIndex_User_Friendly_Example/data/meth/NeoFib/Supp_GSM8031499_NEO_Biological_Rep_2__Passage_8/GSM8031499_NEO2_P8_meth.bw\n",
      "21-Jun-2024 10:47:49 DEBUG downloader - Successfully downloaded ftp://ftp.ncbi.nlm.nih.gov/geo/samples/GSM8031nnn/GSM8031499/suppl/GSM8031499_NEO2_P8_meth.bw\n",
      "21-Jun-2024 10:47:49 INFO GEOTypes - Downloading SRA files for GSM8031500 series\n",
      "\n",
      "100%|██████████| 352M/352M [01:11<00:00, 5.17MB/s]    \n",
      "21-Jun-2024 10:49:01 DEBUG downloader - Size validation passed\n",
      "21-Jun-2024 10:49:01 DEBUG downloader - Moving /var/folders/vc/_r7tgfkn3gxfg9s69xwg97zw0000gr/T/tmppn633rs_ to /Users/dsimps93/PRC2_Index_MSver_Clean/PRC2AgeIndex_User_Friendly_Example/data/meth/NeoFib/Supp_GSM8031500_OLD_Biological_Rep_2__Passage_2/GSM8031500_OLD3_P2_meth.bw\n",
      "21-Jun-2024 10:49:01 DEBUG downloader - Successfully downloaded ftp://ftp.ncbi.nlm.nih.gov/geo/samples/GSM8031nnn/GSM8031500/suppl/GSM8031500_OLD3_P2_meth.bw\n",
      "21-Jun-2024 10:49:01 INFO GEOTypes - Downloading SRA files for GSM8031501 series\n",
      "\n",
      "100%|██████████| 362M/362M [01:18<00:00, 4.86MB/s]   \n",
      "21-Jun-2024 10:50:20 DEBUG downloader - Size validation passed\n",
      "21-Jun-2024 10:50:20 DEBUG downloader - Moving /var/folders/vc/_r7tgfkn3gxfg9s69xwg97zw0000gr/T/tmptlzbnb2u to /Users/dsimps93/PRC2_Index_MSver_Clean/PRC2AgeIndex_User_Friendly_Example/data/meth/NeoFib/Supp_GSM8031501_OLD_Biological_Rep_2__Passage_5/GSM8031501_OLD3_P5_meth.bw\n",
      "21-Jun-2024 10:50:20 DEBUG downloader - Successfully downloaded ftp://ftp.ncbi.nlm.nih.gov/geo/samples/GSM8031nnn/GSM8031501/suppl/GSM8031501_OLD3_P5_meth.bw\n",
      "21-Jun-2024 10:50:20 INFO GEOTypes - Downloading SRA files for GSM8031502 series\n",
      "\n",
      "100%|██████████| 359M/359M [01:20<00:00, 4.66MB/s]    \n",
      "21-Jun-2024 10:51:41 DEBUG downloader - Size validation passed\n",
      "21-Jun-2024 10:51:41 DEBUG downloader - Moving /var/folders/vc/_r7tgfkn3gxfg9s69xwg97zw0000gr/T/tmpok7q353s to /Users/dsimps93/PRC2_Index_MSver_Clean/PRC2AgeIndex_User_Friendly_Example/data/meth/NeoFib/Supp_GSM8031502_OLD_Biological_Rep_2__Passage_8/GSM8031502_OLD3_P8_meth.bw\n",
      "21-Jun-2024 10:51:41 DEBUG downloader - Successfully downloaded ftp://ftp.ncbi.nlm.nih.gov/geo/samples/GSM8031nnn/GSM8031502/suppl/GSM8031502_OLD3_P8_meth.bw\n"
     ]
    },
    {
     "name": "stdout",
     "output_type": "stream",
     "text": [
      "CPU times: user 5.59 s, sys: 9.09 s, total: 14.7 s\n",
      "Wall time: 7min 40s\n"
     ]
    },
    {
     "data": {
      "text/plain": [
       "{'GSM8031497': {'ftp://ftp.ncbi.nlm.nih.gov/geo/samples/GSM8031nnn/GSM8031497/suppl/GSM8031497_NEO2_P2_meth.bw': '/Users/dsimps93/PRC2_Index_MSver_Clean/PRC2AgeIndex_User_Friendly_Example/data/meth/NeoFib/Supp_GSM8031497_NEO_Biological_Rep_2__Passage_2/GSM8031497_NEO2_P2_meth.bw'},\n",
       " 'GSM8031498': {'ftp://ftp.ncbi.nlm.nih.gov/geo/samples/GSM8031nnn/GSM8031498/suppl/GSM8031498_NEO2_P5_meth.bw': '/Users/dsimps93/PRC2_Index_MSver_Clean/PRC2AgeIndex_User_Friendly_Example/data/meth/NeoFib/Supp_GSM8031498_NEO_Biological_Rep_2__Passage_5/GSM8031498_NEO2_P5_meth.bw'},\n",
       " 'GSM8031499': {'ftp://ftp.ncbi.nlm.nih.gov/geo/samples/GSM8031nnn/GSM8031499/suppl/GSM8031499_NEO2_P8_meth.bw': '/Users/dsimps93/PRC2_Index_MSver_Clean/PRC2AgeIndex_User_Friendly_Example/data/meth/NeoFib/Supp_GSM8031499_NEO_Biological_Rep_2__Passage_8/GSM8031499_NEO2_P8_meth.bw'},\n",
       " 'GSM8031500': {'ftp://ftp.ncbi.nlm.nih.gov/geo/samples/GSM8031nnn/GSM8031500/suppl/GSM8031500_OLD3_P2_meth.bw': '/Users/dsimps93/PRC2_Index_MSver_Clean/PRC2AgeIndex_User_Friendly_Example/data/meth/NeoFib/Supp_GSM8031500_OLD_Biological_Rep_2__Passage_2/GSM8031500_OLD3_P2_meth.bw'},\n",
       " 'GSM8031501': {'ftp://ftp.ncbi.nlm.nih.gov/geo/samples/GSM8031nnn/GSM8031501/suppl/GSM8031501_OLD3_P5_meth.bw': '/Users/dsimps93/PRC2_Index_MSver_Clean/PRC2AgeIndex_User_Friendly_Example/data/meth/NeoFib/Supp_GSM8031501_OLD_Biological_Rep_2__Passage_5/GSM8031501_OLD3_P5_meth.bw'},\n",
       " 'GSM8031502': {'ftp://ftp.ncbi.nlm.nih.gov/geo/samples/GSM8031nnn/GSM8031502/suppl/GSM8031502_OLD3_P8_meth.bw': '/Users/dsimps93/PRC2_Index_MSver_Clean/PRC2AgeIndex_User_Friendly_Example/data/meth/NeoFib/Supp_GSM8031502_OLD_Biological_Rep_2__Passage_8/GSM8031502_OLD3_P8_meth.bw'}}"
      ]
     },
     "execution_count": 40,
     "metadata": {},
     "output_type": "execute_result"
    }
   ],
   "source": [
    "%%time\n",
    "#Downloading methylation bigwig files for Neonatal (can substitute for bigwig methylation files of your own desired cell type/samples, however, low methylated regions (hmr file) may have to calculated separetly for you desired cell type)\n",
    "\n",
    "geo_accession = \"GSE253985\"\n",
    "gse = GEOparse.get_GEO(geo=geo_accession, destdir=\"./data/meth/NeoFib\")\n",
    "gse.download_supplementary_files(directory='./data/meth/NeoFib', \n",
    "                                 download_sra=False, \n",
    "                                 email=None, sra_kwargs=None, nproc=1)"
   ]
  },
  {
   "cell_type": "code",
   "execution_count": 9,
   "id": "6fce0ba6",
   "metadata": {},
   "outputs": [
    {
     "data": {
      "text/plain": [
       "'./data/chip//ENCFF224RZW.bigWig'"
      ]
     },
     "execution_count": 9,
     "metadata": {},
     "output_type": "execute_result"
    }
   ],
   "source": [
    "%%time\n",
    "#Downloading embryonic PRC2 ChIP files used for LMR sorting\n",
    "wget.download(\"https://www.encodeproject.org/files/ENCFF105JFX/@@download/ENCFF105JFX.bigWig\", out=\"./data/chip/\")\n",
    "wget.download(\"https://www.encodeproject.org/files/ENCFF224RZW/@@download/ENCFF224RZW.bigWig\", out=\"./data/chip/\")"
   ]
  },
  {
   "cell_type": "code",
   "execution_count": 44,
   "id": "05894b75",
   "metadata": {},
   "outputs": [
    {
     "name": "stdout",
     "output_type": "stream",
     "text": [
      "80176\n",
      "NEO2_P2_meth,..............................................................................\n",
      "NEO2_P5_meth,..............................................................................\n",
      "NEO2_P8_meth,..............................................................................\n",
      "CPU times: user 2min 15s, sys: 29.5 s, total: 2min 45s\n",
      "Wall time: 2min 46s\n"
     ]
    }
   ],
   "source": [
    "%%time\n",
    "\n",
    "# Getting mean methylation per LMR \n",
    "\n",
    "folder='meth/NeoFib/';cell='NEO2_allPs' #data/meth/NeoFib/ contains all meth bw files needed to calculate mean methylation per LMR. \n",
    "#NEO2_allPs refers to the .hmr (list of LMRs) file. \n",
    "\n",
    "#User can substitute with another hmr file to calculate for other cell types, for example, t cell, the hmr file of which is provided\n",
    "#folder='meth/t/';cell='t' # user should switch to this if inputting t-cell methylation bw files\n",
    "\n",
    "#load and download the following ChIP fold change (IP/input) files from ENCODE\n",
    "ez=pyBigWig.open('data/chip/ENCFF105JFX.bigWig') # EZH2 esc fold change - download to data/chip folder from https://www.encodeproject.org/files/ENCFF105JFX/\n",
    "su=pyBigWig.open('data/chip/ENCFF224RZW.bigWig') # SUZ12 esc fold change - download to data/chip folder from https://www.encodeproject.org/files/ENCFF224RZW/\n",
    "\n",
    "# s1. get ezh2 binding within LMRs\n",
    "t=pd.read_csv('data/'+folder+cell+'.hmr',sep='\\t',header=None,usecols=[0,1,2,4])\n",
    "t=t[~t[0].isin(['chrX','chrY','chrM','chrMT','MT','X','Y','M'])].copy() #remove non-autosomal chromosomes\n",
    "t.columns=['ch','b','e','d'] #apply column names (ch = \"chromosome\", b = \"beginning\", e = \"end\", d = \"number of CpGs in given LMR\")\n",
    "\n",
    "t['ez']=t.apply(lambda x:ez.stats(x[0],x[1],x[2])[0],axis=1) #find EZH2 binding for each LMR\n",
    "t['su']=t.apply(lambda x:su.stats(x[0],x[1],x[2])[0],axis=1) #find SUZ12 binding for each LMR\n",
    "t['pr']=t[['ez','su']].mean(1) #take mean of EZH2 and SUZ12 binding for each LMR\n",
    "\n",
    "print(len(t)) #Print number of LMRs\n",
    "t=bl(t,'hg38-blacklist.v2.bed.gz') # loading blacklisted regions downloaded from https://github.com/Boyle-Lab/Blacklist/tree/master\n",
    "\n",
    "#s2. get DNAm within LMRs for each sample \n",
    "cells=[\"NEO2_P2_meth\",\"NEO2_P5_meth\",\"NEO2_P8_meth\"] #change to filenames of samples\n",
    "for cell in cells:\n",
    "    bs=[]\n",
    "    print(cell,end=',')\n",
    "    bw = pyBigWig.open(next(iter(glob.glob('data/' + folder + '*/*' + cell + '.bw'))))\n",
    "    #bw=pyBigWig.open('data/'+folder+cell+'.bw')\n",
    "    for i,r in t.iterrows():\n",
    "        if (i % 1000) == 0:print('.',end='')\n",
    "        bs.append(bw.stats(r['ch'],r['b'],r['e'])[0])\n",
    "    print()\n",
    "    t[cell]=bs\n",
    "t=t.dropna().copy().round(3)\n",
    "\n",
    "\n",
    "#save methylation values and sort by EZH2 and SUZ12 binding\n",
    "dft=t.sort_values('pr').reset_index()\n",
    "\n",
    "#save so you don't need to produce everytime\n",
    "dft.to_csv('data/meth/NeoFib/NEOP2s_methBWs_hESCord_FE.csv') "
   ]
  },
  {
   "cell_type": "code",
   "execution_count": 50,
   "id": "d8263550",
   "metadata": {},
   "outputs": [
    {
     "name": "stdout",
     "output_type": "stream",
     "text": [
      "NEO2_P2_meth,NEO2_P5_meth,NEO2_P8_meth,"
     ]
    },
    {
     "data": {
      "image/png": "[encoded data removed]",
      "text/plain": [
       "<Figure size 90x200 with 1 Axes>"
      ]
     },
     "metadata": {},
     "output_type": "display_data"
    },
    {
     "data": {
      "image/png": "[encoded data removed]",
      "text/plain": [
       "<Figure size 300x200 with 1 Axes>"
      ]
     },
     "metadata": {},
     "output_type": "display_data"
    },
    {
     "data": {
      "image/png": "[encoded data removed]",
      "text/plain": [
       "<Figure size 120x200 with 1 Axes>"
      ]
     },
     "metadata": {},
     "output_type": "display_data"
    }
   ],
   "source": [
    "#Read in PRC2 sorted methylation file from previous step (skip to this step if this file has already been computed)\n",
    "dft= pd.read_csv('data/meth/NeoFib/NEOP2s_methBWs_hESCord_FE.csv',index_col=0) \n",
    "\n",
    "cells=[\"NEO2_P2_meth\",\"NEO2_P5_meth\",\"NEO2_P8_meth\"]\n",
    "c0=cells[0]\n",
    "l=dft.apply(lambda x:int(x['d'])*[x[c0]],axis=1)\n",
    "l=[item for sublist in l for item in sublist]\n",
    "df=pd.DataFrame(l)\n",
    "df.columns=[c0]\n",
    "for cell in cells[1:]:\n",
    "    l=dft.apply(lambda x:int(x['d'])*[x[cell]],axis=1)\n",
    "    l=[item for sublist in l for item in sublist]\n",
    "    df[cell]=l\n",
    "    \n",
    "#plots\n",
    "pl=pwg(cells,folder,'passage',figure='NEOfibros_totalMeth') #plots total methylation of each sample\n",
    "dg=pprc(df,figure='Fig6b_Neos') #plot all LMRs sorted by EZH2 binding\n",
    "\n",
    "dg=pprchz(df,6,5,legend_title='Passage',figure='Fig6b_Neos_zoom2') #zoomed in on top PRC2 binding LMRs"
   ]
  }
 ],
 "metadata": {
  "kernelspec": {
   "display_name": "Python 3 (ipykernel)",
   "language": "python",
   "name": "python3"
  },
  "language_info": {
   "codemirror_mode": {
    "name": "ipython",
    "version": 3
   },
   "file_extension": ".py",
   "mimetype": "text/x-python",
   "name": "python",
   "nbconvert_exporter": "python",
   "pygments_lexer": "ipython3",
   "version": "3.10.9"
  }
 },
 "nbformat": 4,
 "nbformat_minor": 5
}
